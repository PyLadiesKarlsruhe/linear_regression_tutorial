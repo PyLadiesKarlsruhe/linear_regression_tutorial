{
  "nbformat": 4,
  "nbformat_minor": 0,
  "metadata": {
    "colab": {
      "name": "linear_regression_boston_housing.ipynb",
      "provenance": [],
      "collapsed_sections": []
    },
    "kernelspec": {
      "name": "python3",
      "display_name": "Python 3"
    }
  },
  "cells": [
    {
      "cell_type": "markdown",
      "metadata": {
        "id": "2afmY6N32sVK",
        "colab_type": "text"
      },
      "source": [
        "\n",
        "# Step 1. Import libraries\n",
        "\n",
        "\n"
      ]
    },
    {
      "cell_type": "code",
      "metadata": {
        "id": "0P6wTNHt2qs0",
        "colab_type": "code",
        "colab": {}
      },
      "source": [
        "import pandas as pd  "
      ],
      "execution_count": 0,
      "outputs": []
    },
    {
      "cell_type": "markdown",
      "metadata": {
        "id": "cyfr6b9a1VWn",
        "colab_type": "text"
      },
      "source": [
        "# Step 2. Import dataset"
      ]
    },
    {
      "cell_type": "code",
      "metadata": {
        "id": "paqKyyP20-R3",
        "colab_type": "code",
        "colab": {}
      },
      "source": [
        "# sklearn (Python's machine learning library) has some popular datasets available\n",
        "# For this tutorial we import the famous Boston housing dataset\n",
        "from sklearn.datasets import load_boston"
      ],
      "execution_count": 0,
      "outputs": []
    },
    {
      "cell_type": "code",
      "metadata": {
        "id": "oV567pjM1Epi",
        "colab_type": "code",
        "colab": {}
      },
      "source": [
        "# Let's load the data that we just imported\n",
        "boston = load_boston()"
      ],
      "execution_count": 0,
      "outputs": []
    },
    {
      "cell_type": "code",
      "metadata": {
        "id": "AsQ0NdQy2Hds",
        "colab_type": "code",
        "outputId": "7026c411-c534-41ab-d925-5ce2e7e4e932",
        "colab": {
          "base_uri": "https://localhost:8080/",
          "height": 904
        }
      },
      "source": [
        "# So what exactly is in this dataset? Please note: 'target' means the same as 'label'\n",
        "print(boston.DESCR)"
      ],
      "execution_count": 0,
      "outputs": [
        {
          "output_type": "stream",
          "text": [
            ".. _boston_dataset:\n",
            "\n",
            "Boston house prices dataset\n",
            "---------------------------\n",
            "\n",
            "**Data Set Characteristics:**  \n",
            "\n",
            "    :Number of Instances: 506 \n",
            "\n",
            "    :Number of Attributes: 13 numeric/categorical predictive. Median Value (attribute 14) is usually the target.\n",
            "\n",
            "    :Attribute Information (in order):\n",
            "        - CRIM     per capita crime rate by town\n",
            "        - ZN       proportion of residential land zoned for lots over 25,000 sq.ft.\n",
            "        - INDUS    proportion of non-retail business acres per town\n",
            "        - CHAS     Charles River dummy variable (= 1 if tract bounds river; 0 otherwise)\n",
            "        - NOX      nitric oxides concentration (parts per 10 million)\n",
            "        - RM       average number of rooms per dwelling\n",
            "        - AGE      proportion of owner-occupied units built prior to 1940\n",
            "        - DIS      weighted distances to five Boston employment centres\n",
            "        - RAD      index of accessibility to radial highways\n",
            "        - TAX      full-value property-tax rate per $10,000\n",
            "        - PTRATIO  pupil-teacher ratio by town\n",
            "        - B        1000(Bk - 0.63)^2 where Bk is the proportion of blacks by town\n",
            "        - LSTAT    % lower status of the population\n",
            "        - MEDV     Median value of owner-occupied homes in $1000's\n",
            "\n",
            "    :Missing Attribute Values: None\n",
            "\n",
            "    :Creator: Harrison, D. and Rubinfeld, D.L.\n",
            "\n",
            "This is a copy of UCI ML housing dataset.\n",
            "https://archive.ics.uci.edu/ml/machine-learning-databases/housing/\n",
            "\n",
            "\n",
            "This dataset was taken from the StatLib library which is maintained at Carnegie Mellon University.\n",
            "\n",
            "The Boston house-price data of Harrison, D. and Rubinfeld, D.L. 'Hedonic\n",
            "prices and the demand for clean air', J. Environ. Economics & Management,\n",
            "vol.5, 81-102, 1978.   Used in Belsley, Kuh & Welsch, 'Regression diagnostics\n",
            "...', Wiley, 1980.   N.B. Various transformations are used in the table on\n",
            "pages 244-261 of the latter.\n",
            "\n",
            "The Boston house-price data has been used in many machine learning papers that address regression\n",
            "problems.   \n",
            "     \n",
            ".. topic:: References\n",
            "\n",
            "   - Belsley, Kuh & Welsch, 'Regression diagnostics: Identifying Influential Data and Sources of Collinearity', Wiley, 1980. 244-261.\n",
            "   - Quinlan,R. (1993). Combining Instance-Based and Model-Based Learning. In Proceedings on the Tenth International Conference of Machine Learning, 236-243, University of Massachusetts, Amherst. Morgan Kaufmann.\n",
            "\n"
          ],
          "name": "stdout"
        }
      ]
    },
    {
      "cell_type": "code",
      "metadata": {
        "id": "_1T-wQb85m64",
        "colab_type": "code",
        "outputId": "b27ddcd7-ae79-4e29-9d2a-dce3dcd87f16",
        "colab": {
          "base_uri": "https://localhost:8080/",
          "height": 35
        }
      },
      "source": [
        "print(boston.keys())"
      ],
      "execution_count": 0,
      "outputs": [
        {
          "output_type": "stream",
          "text": [
            "dict_keys(['data', 'target', 'feature_names', 'DESCR', 'filename'])\n"
          ],
          "name": "stdout"
        }
      ]
    },
    {
      "cell_type": "markdown",
      "metadata": {
        "id": "LmNUgi4u10I3",
        "colab_type": "text"
      },
      "source": [
        "# Step 3. Data exploration"
      ]
    },
    {
      "cell_type": "code",
      "metadata": {
        "id": "NVuQDTYS1tKU",
        "colab_type": "code",
        "outputId": "dfe26dd9-ea37-43fb-9649-819a3c112b2b",
        "colab": {
          "base_uri": "https://localhost:8080/",
          "height": 35
        }
      },
      "source": [
        "# And explore the shape\n",
        "# Looks like we have 506 rows and 13 columns\n",
        "print(boston.data.shape)"
      ],
      "execution_count": 0,
      "outputs": [
        {
          "output_type": "stream",
          "text": [
            "(506, 13)\n"
          ],
          "name": "stdout"
        }
      ]
    },
    {
      "cell_type": "code",
      "metadata": {
        "id": "uUH5o1wa1m4W",
        "colab_type": "code",
        "outputId": "10761b77-3241-4157-ac74-52b247fba247",
        "colab": {
          "base_uri": "https://localhost:8080/",
          "height": 164
        }
      },
      "source": [
        "# Now let's look at the first few rows\n",
        "bos = pd.DataFrame(boston.data)\n",
        "bos.columns = boston.feature_names\n",
        "print(bos.head(5))"
      ],
      "execution_count": 0,
      "outputs": [
        {
          "output_type": "stream",
          "text": [
            "      CRIM    ZN  INDUS  CHAS    NOX  ...  RAD    TAX  PTRATIO       B  LSTAT\n",
            "0  0.00632  18.0   2.31   0.0  0.538  ...  1.0  296.0     15.3  396.90   4.98\n",
            "1  0.02731   0.0   7.07   0.0  0.469  ...  2.0  242.0     17.8  396.90   9.14\n",
            "2  0.02729   0.0   7.07   0.0  0.469  ...  2.0  242.0     17.8  392.83   4.03\n",
            "3  0.03237   0.0   2.18   0.0  0.458  ...  3.0  222.0     18.7  394.63   2.94\n",
            "4  0.06905   0.0   2.18   0.0  0.458  ...  3.0  222.0     18.7  396.90   5.33\n",
            "\n",
            "[5 rows x 13 columns]\n"
          ],
          "name": "stdout"
        }
      ]
    },
    {
      "cell_type": "markdown",
      "metadata": {
        "id": "g9jfA7vI3P9z",
        "colab_type": "text"
      },
      "source": [
        "Usually we would do more data exploration now but we skip it for now to save time"
      ]
    },
    {
      "cell_type": "markdown",
      "metadata": {
        "id": "3iDUGYgK4fZD",
        "colab_type": "text"
      },
      "source": [
        "# Step 4. Create the model\n",
        "\n",
        "Now we predict the median value of a house using the other features.\n",
        "\n"
      ]
    },
    {
      "cell_type": "code",
      "metadata": {
        "id": "xJax4Y8313ZD",
        "colab_type": "code",
        "colab": {}
      },
      "source": [
        "X = boston.data  # features from the scikit-learn dataset\n",
        "Y = boston.target  # target from the scikit-learn dataset"
      ],
      "execution_count": 0,
      "outputs": []
    },
    {
      "cell_type": "code",
      "metadata": {
        "id": "Du0m1SHH4g0l",
        "colab_type": "code",
        "outputId": "568e0574-ead2-4d48-b5ba-86ce7e58943b",
        "colab": {
          "base_uri": "https://localhost:8080/",
          "height": 92
        }
      },
      "source": [
        "# Now we create the train and test set\n",
        "# We fit the model on the train set\n",
        "# Then we can test it using the test set\n",
        "from sklearn.model_selection import train_test_split\n",
        "\n",
        "X_train, X_test, Y_train, Y_test = train_test_split(X, Y, test_size = 0.33,\n",
        "                                                    random_state = 5)\n",
        "print(X_train.shape)\n",
        "print(X_test.shape)\n",
        "print(Y_train.shape)\n",
        "print(Y_test.shape)"
      ],
      "execution_count": 0,
      "outputs": [
        {
          "output_type": "stream",
          "text": [
            "(339, 13)\n",
            "(167, 13)\n",
            "(339,)\n",
            "(167,)\n"
          ],
          "name": "stdout"
        }
      ]
    },
    {
      "cell_type": "code",
      "metadata": {
        "id": "S99B1JpB_BP1",
        "colab_type": "code",
        "colab": {}
      },
      "source": [
        "# Now we build the actual linear regression model\n",
        "# Import LinearRegression\n",
        "from sklearn.linear_model import LinearRegression\n",
        "\n",
        "# Fit the model\n",
        "reg = LinearRegression().fit(X_train, Y_train)"
      ],
      "execution_count": 0,
      "outputs": []
    },
    {
      "cell_type": "code",
      "metadata": {
        "id": "7YR7JzoJ_kK8",
        "colab_type": "code",
        "colab": {}
      },
      "source": [
        "preds = reg.predict(X_test)"
      ],
      "execution_count": 0,
      "outputs": []
    },
    {
      "cell_type": "code",
      "metadata": {
        "id": "CDXPq7C5_pzC",
        "colab_type": "code",
        "outputId": "ab468f4a-db3e-4789-b73f-ac0bc9ca9e70",
        "colab": {
          "base_uri": "https://localhost:8080/",
          "height": 765
        }
      },
      "source": [
        "# Evaluate the model\n",
        "# Let's have a quick look\n",
        "print(preds)\n",
        "print(Y_test)"
      ],
      "execution_count": 0,
      "outputs": [
        {
          "output_type": "stream",
          "text": [
            "[37.46723562 31.39154701 27.1201962   6.46843347 33.62966737  5.67067989\n",
            " 27.03946671 29.92704748 26.35661334 22.45246021 32.20504441 21.78641653\n",
            " 23.41138441 33.60894362 28.28619511 15.13859055  0.30087325 18.71850376\n",
            " 14.4706712  11.10823598  2.69494197 19.21693734 38.41159345 24.36936442\n",
            " 31.61493439 11.42210397 24.92862188 23.31178043 22.7764079  20.65081211\n",
            " 16.035198    7.07978633 17.65509209 22.81470561 29.21943405 18.61354566\n",
            " 28.37701843  8.80516873 41.65140459 34.02910176 20.1868926   3.95600857\n",
            " 29.69124564 12.18081256 27.19403498 30.63699231 -6.24952457 19.9462404\n",
            " 21.55123979 13.36478173 20.39068171 19.87353324 23.57656877 13.40141285\n",
            " 17.66457201 24.77424747 35.31476509 15.48318159 28.50764575 21.72575404\n",
            " 20.58142839 26.08460856 14.51816968 32.37494056 20.80917392 12.18932524\n",
            " 19.45551285 25.23390429 21.77302317 21.30227044 20.58222113 26.74635016\n",
            " 17.53006166 18.7191946  19.03026793 25.76553031 21.8757557  15.70891861\n",
            " 35.12411848 18.04488652 22.43612549 39.4000555  22.30677551 14.9738331\n",
            " 25.29300631 17.3200635  18.58435124 10.01693133 19.62408198 17.24471407\n",
            " 36.26263664 17.55591517 21.10848471 19.08435242 24.72519887 28.0878012\n",
            " 12.25474746 22.40592558 21.00483315 13.51073355 23.09169468 21.48906423\n",
            " 14.14959117 42.75677509  2.01088993 21.9914102  18.32505073 22.59335404\n",
            " 28.93052931 18.49024451 27.61537531 24.65547955 20.32508475 32.66905896\n",
            " 19.72975821 12.8254     22.68957624 18.2350211  19.40432885 16.19144346\n",
            " 21.77804736 35.50387944 22.24038654 20.20025029 24.54270446 25.29795497\n",
            " 20.50220669 23.0150761  23.38446711 40.91809141 37.84906745 27.54024335\n",
            " 12.53470565 15.90588084 18.25352202 21.62847325 15.77967465  5.62636735\n",
            " 24.00046271 30.37118947 23.01126707 18.29104509 16.194709   21.60846672\n",
            " 34.71665914 23.40506116 30.13747943 18.0951727  22.16844264 29.0922559\n",
            " 13.36146671 31.8608905  11.60055482 13.91761543 26.52314446 31.39481197\n",
            " 10.62913801 24.6869924  28.95650935 32.31758322 15.87113569 29.94335724\n",
            "  9.71836876 34.70520017 25.70410195 20.15430904 15.3946584 ]\n",
            "[37.6 27.9 22.6 13.8 35.2 10.4 23.9 29.  22.8 23.2 33.2 19.  20.3 36.1\n",
            " 24.4 17.2 17.9 19.6 19.7 15.   8.1 23.  44.8 23.1 32.2 10.8 23.1 21.2\n",
            " 22.2 24.1 17.3  7.  12.7 17.8 26.4 19.6 25.1  8.3 48.8 34.9 13.8 14.4\n",
            " 30.1 12.7 27.1 24.8  7.  20.5 21.5 14.  20.4 22.2 21.4 13.5 19.4 24.7\n",
            " 43.8 14.1 28.6 19.7 16.8 23.2 16.2 41.3 22.7  8.3 18.4 24.7 21.7 20.6\n",
            " 16.7 22.1 19.4 27.5 27.9 30.1 17.4 15.4 31.  14.2 19.6 50.  21.7 11.7\n",
            " 19.4 13.  17.5  9.7 20.3 18.6 50.  19.6 21.4 18.4 22.6 25.  15.6 26.6\n",
            " 22.4 13.1 23.  24.5 13.1 50.   8.8 20.6 12.1 50.  24.1 16.1 23.9 24.3\n",
            " 13.1 30.3 15.2 13.8 26.4 16.6 18.9 17.6 18.7 33.4 20.7 17.1 23.4 26.5\n",
            " 21.4 21.5 19.2 50.  50.  23.  10.5 17.8 10.9 21.  13.8 10.5 22.2 30.5\n",
            " 19.4 15.6 20.2 19.3 34.6 50.  24.  18.7 19.8 22.5 13.3 50.  11.8 11.\n",
            " 23.7 35.4 15.2 24.4 33.4 31.6 13.4 34.9 14.4 35.4 25.3 18.3 16.6]\n"
          ],
          "name": "stdout"
        }
      ]
    },
    {
      "cell_type": "code",
      "metadata": {
        "id": "9wmHT1dikVP4",
        "colab_type": "code",
        "outputId": "37a9bf8d-9179-4ffc-ba7f-43d9aaf87c0c",
        "colab": {
          "base_uri": "https://localhost:8080/",
          "height": 283
        }
      },
      "source": [
        "from matplotlib import pyplot as plt # import a plotting library\n",
        "f, ax = plt.subplots()\n",
        "ax.scatter(preds, Y_test) # make a scatterplot of predicted and real values\n",
        "plt.xlabel('predicted house value')\n",
        "plt.ylabel('real house value')\n",
        "plt.xlim([0,50])\n",
        "plt.ylim([0,50])\n",
        "ax.plot([0,1],[0,1], transform=ax.transAxes, color = 'green') # adding the diagonal\n",
        "plt.show()"
      ],
      "execution_count": 0,
      "outputs": [
        {
          "output_type": "display_data",
          "data": {
            "image/png": "[encoded data removed]",
            "text/plain": [
              "<Figure size 432x288 with 1 Axes>"
            ]
          },
          "metadata": {
            "tags": []
          }
        }
      ]
    },
    {
      "cell_type": "code",
      "metadata": {
        "id": "IdqI7l3G_uJZ",
        "colab_type": "code",
        "outputId": "bb23c498-008f-4a44-8e56-e32351174e56",
        "colab": {
          "base_uri": "https://localhost:8080/",
          "height": 36
        }
      },
      "source": [
        "# Evaluation metrics --> next time\n",
        "# But here's a quick preview\n",
        "from sklearn.metrics import mean_squared_error\n",
        "\n",
        "print(mean_squared_error(preds, Y_test))"
      ],
      "execution_count": 0,
      "outputs": [
        {
          "output_type": "stream",
          "text": [
            "28.5304587659747\n"
          ],
          "name": "stdout"
        }
      ]
    },
    {
      "cell_type": "code",
      "metadata": {
        "id": "on6hr1_LAESK",
        "colab_type": "code",
        "colab": {}
      },
      "source": [
        ""
      ],
      "execution_count": 0,
      "outputs": []
    }
  ]
}